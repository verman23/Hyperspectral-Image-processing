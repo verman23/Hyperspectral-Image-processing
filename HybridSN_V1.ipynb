{
 "cells": [
  {
   "cell_type": "code",
   "execution_count": 1,
   "metadata": {
    "colab": {
     "base_uri": "https://localhost:8080/"
    },
    "id": "FYdqqSbxymLp",
    "outputId": "a3bd2cb5-32c6-4c00-8cd3-2752db3e8e80"
   },
   "outputs": [
    {
     "name": "stdout",
     "output_type": "stream",
     "text": [
      "Collecting spectral\n",
      "  Downloading spectral-0.22.4-py3-none-any.whl (212 kB)\n",
      "\u001b[?25l\r",
      "\u001b[K     |█▌                              | 10 kB 18.3 MB/s eta 0:00:01\r",
      "\u001b[K     |███                             | 20 kB 22.9 MB/s eta 0:00:01\r",
      "\u001b[K     |████▋                           | 30 kB 11.1 MB/s eta 0:00:01\r",
      "\u001b[K     |██████▏                         | 40 kB 4.5 MB/s eta 0:00:01\r",
      "\u001b[K     |███████▊                        | 51 kB 4.7 MB/s eta 0:00:01\r",
      "\u001b[K     |█████████▎                      | 61 kB 5.5 MB/s eta 0:00:01\r",
      "\u001b[K     |██████████▉                     | 71 kB 5.7 MB/s eta 0:00:01\r",
      "\u001b[K     |████████████▍                   | 81 kB 5.6 MB/s eta 0:00:01\r",
      "\u001b[K     |██████████████                  | 92 kB 6.3 MB/s eta 0:00:01\r",
      "\u001b[K     |███████████████▍                | 102 kB 5.3 MB/s eta 0:00:01\r",
      "\u001b[K     |█████████████████               | 112 kB 5.3 MB/s eta 0:00:01\r",
      "\u001b[K     |██████████████████▌             | 122 kB 5.3 MB/s eta 0:00:01\r",
      "\u001b[K     |████████████████████            | 133 kB 5.3 MB/s eta 0:00:01\r",
      "\u001b[K     |█████████████████████▋          | 143 kB 5.3 MB/s eta 0:00:01\r",
      "\u001b[K     |███████████████████████▏        | 153 kB 5.3 MB/s eta 0:00:01\r",
      "\u001b[K     |████████████████████████▊       | 163 kB 5.3 MB/s eta 0:00:01\r",
      "\u001b[K     |██████████████████████████▎     | 174 kB 5.3 MB/s eta 0:00:01\r",
      "\u001b[K     |███████████████████████████▉    | 184 kB 5.3 MB/s eta 0:00:01\r",
      "\u001b[K     |█████████████████████████████▎  | 194 kB 5.3 MB/s eta 0:00:01\r",
      "\u001b[K     |██████████████████████████████▉ | 204 kB 5.3 MB/s eta 0:00:01\r",
      "\u001b[K     |████████████████████████████████| 212 kB 5.3 MB/s \n",
      "\u001b[?25hRequirement already satisfied: numpy in /usr/local/lib/python3.7/dist-packages (from spectral) (1.21.5)\n",
      "Installing collected packages: spectral\n",
      "Successfully installed spectral-0.22.4\n"
     ]
    }
   ],
   "source": [
    "!pip install spectral"
   ]
  },
  {
   "cell_type": "code",
   "execution_count": 2,
   "metadata": {
    "colab": {
     "base_uri": "https://localhost:8080/",
     "height": 17
    },
    "id": "AEVP6x5CviqP",
    "outputId": "32d5b6cb-ecf7-4000-e68d-a4d2ac0398f8"
   },
   "outputs": [
    {
     "data": {
      "text/html": [
       "        <script type=\"text/javascript\">\n",
       "        window.PlotlyConfig = {MathJaxConfig: 'local'};\n",
       "        if (window.MathJax && window.MathJax.Hub && window.MathJax.Hub.Config) {window.MathJax.Hub.Config({SVG: {font: \"STIX-Web\"}});}\n",
       "        if (typeof require !== 'undefined') {\n",
       "        require.undef(\"plotly\");\n",
       "        requirejs.config({\n",
       "            paths: {\n",
       "                'plotly': ['https://cdn.plot.ly/plotly-2.27.0.min']\n",
       "            }\n",
       "        });\n",
       "        require(['plotly'], function(Plotly) {\n",
       "            window._Plotly = Plotly;\n",
       "        });\n",
       "        }\n",
       "        </script>\n",
       "        "
      ]
     },
     "metadata": {},
     "output_type": "display_data"
    }
   ],
   "source": [
    "import keras\n",
    "import tensorflow as tf\n",
    "from keras.layers import Conv2D, Conv3D, Flatten, Dense, Reshape, BatchNormalization\n",
    "from keras.layers import Dropout, Input\n",
    "from keras.models import Model\n",
    "from tensorflow.keras.optimizers import Adam\n",
    "from keras.callbacks import ModelCheckpoint\n",
    "from keras.utils import np_utils\n",
    "\n",
    "from sklearn.decomposition import PCA\n",
    "from sklearn.model_selection import train_test_split\n",
    "from sklearn.metrics import confusion_matrix, accuracy_score, classification_report, cohen_kappa_score\n",
    "\n",
    "from operator import truediv\n",
    "\n",
    "from plotly.offline import init_notebook_mode\n",
    "\n",
    "import numpy as np\n",
    "import matplotlib.pyplot as plt\n",
    "import scipy.io as sio\n",
    "import os\n",
    "import spectral\n",
    "\n",
    "init_notebook_mode(connected=True)\n",
    "%matplotlib inline"
   ]
  },
  {
   "cell_type": "code",
   "execution_count": 3,
   "metadata": {
    "colab": {
     "base_uri": "https://localhost:8080/"
    },
    "id": "msb54AxTvsxl",
    "outputId": "edf5dfab-df9a-4825-acd2-eca512202d5b"
   },
   "outputs": [
    {
     "name": "stdout",
     "output_type": "stream",
     "text": [
      "--2022-04-11 18:24:11--  http://www.ehu.eus/ccwintco/uploads/6/67/Indian_pines_corrected.mat\n",
      "Resolving www.ehu.eus (www.ehu.eus)... 158.227.0.65, 2001:720:1410::65\n",
      "Connecting to www.ehu.eus (www.ehu.eus)|158.227.0.65|:80... connected.\n",
      "HTTP request sent, awaiting response... 200 OK\n",
      "Length: 5953527 (5.7M)\n",
      "Saving to: ‘Indian_pines_corrected.mat’\n",
      "\n",
      "Indian_pines_correc 100%[===================>]   5.68M   761KB/s    in 8.6s    \n",
      "\n",
      "2022-04-11 18:24:20 (677 KB/s) - ‘Indian_pines_corrected.mat’ saved [5953527/5953527]\n",
      "\n",
      "--2022-04-11 18:24:20--  http://www.ehu.eus/ccwintco/uploads/c/c4/Indian_pines_gt.mat\n",
      "Resolving www.ehu.eus (www.ehu.eus)... 158.227.0.65, 2001:720:1410::65\n",
      "Connecting to www.ehu.eus (www.ehu.eus)|158.227.0.65|:80... connected.\n",
      "HTTP request sent, awaiting response... 200 OK\n",
      "Length: 1125 (1.1K)\n",
      "Saving to: ‘Indian_pines_gt.mat’\n",
      "\n",
      "Indian_pines_gt.mat 100%[===================>]   1.10K  --.-KB/s    in 0s      \n",
      "\n",
      "2022-04-11 18:24:21 (130 MB/s) - ‘Indian_pines_gt.mat’ saved [1125/1125]\n",
      "\n"
     ]
    }
   ],
   "source": [
    "if not (os.path.isfile('Indian_pines_corrected.mat')):\n",
    "  !wget http://www.ehu.eus/ccwintco/uploads/6/67/Indian_pines_corrected.mat\n",
    "if not (os.path.isfile('Indian_pines_gt.mat')):\n",
    "  !wget http://www.ehu.eus/ccwintco/uploads/c/c4/Indian_pines_gt.mat\n",
    "\n",
    "#if not (os.path.isfile('/content/Salinas_corrected.mat')):\n",
    "#  !wget https://github.com/gokriznastic/HybridSN/raw/master/data/Salinas_corrected.mat\n",
    "#if not (os.path.isfile('/content/Salinas_gt.mat')):\n",
    "#  !wget https://github.com/gokriznastic/HybridSN/raw/master/data/Salinas_gt.mat"
   ]
  },
  {
   "cell_type": "markdown",
   "metadata": {
    "id": "T0dGKcU9viqk"
   },
   "source": [
    "# Data Loading"
   ]
  },
  {
   "cell_type": "code",
   "execution_count": 4,
   "metadata": {
    "id": "taV2QK36viqm"
   },
   "outputs": [],
   "source": [
    "## GLOBAL VARIABLES\n",
    "dataset = 'IP'\n",
    "test_ratio = 0.7\n",
    "windowSize = 25"
   ]
  },
  {
   "cell_type": "code",
   "execution_count": 1,
   "metadata": {
    "id": "c2S9wEYaviq3"
   },
   "outputs": [],
   "source": [
    "def loadData(name):\n",
    "    data_path = os.path.join(os.getcwd(),'Houston')\n",
    "    if name == 'IP':\n",
    "        data = sio.loadmat(os.path.join(data_path, 'Indian_pines_corrected.mat'))['indian_pines_corrected']\n",
    "        labels = sio.loadmat(os.path.join(data_path, 'Indian_pines_gt.mat'))['indian_pines_gt']\n",
    "    elif name == 'SA':\n",
    "        data = sio.loadmat(os.path.join(data_path, 'Salinas_corrected.mat'))['salinas_corrected']\n",
    "        labels = sio.loadmat(os.path.join(data_path, 'Salinas_gt.mat'))['salinas_gt']\n",
    "    elif name == 'PU':\n",
    "        data = sio.loadmat(os.path.join(data_path, 'PaviaU.mat'))['paviaU']\n",
    "        labels = sio.loadmat(os.path.join(data_path, 'PaviaU_gt.mat'))['paviaU_gt']\n",
    "    \n",
    "    return data, labels"
   ]
  },
  {
   "cell_type": "code",
   "execution_count": 6,
   "metadata": {
    "id": "2u6ACykXvirD"
   },
   "outputs": [],
   "source": [
    "def splitTrainTestSet(X, y, testRatio, randomState=345):\n",
    "    X_train, X_test, y_train, y_test = train_test_split(X, y, test_size=testRatio, random_state=randomState,\n",
    "                                                        stratify=y)\n",
    "    return X_train, X_test, y_train, y_test"
   ]
  },
  {
   "cell_type": "code",
   "execution_count": 7,
   "metadata": {
    "id": "fN58ewFGvirP"
   },
   "outputs": [],
   "source": [
    "def applyPCA(X, numComponents=75):\n",
    "    newX = np.reshape(X, (-1, X.shape[2]))\n",
    "    pca = PCA(n_components=numComponents, whiten=True)\n",
    "    newX = pca.fit_transform(newX)\n",
    "    newX = np.reshape(newX, (X.shape[0],X.shape[1], numComponents))\n",
    "    return newX, pca"
   ]
  },
  {
   "cell_type": "code",
   "execution_count": 8,
   "metadata": {
    "id": "Taj-YwjLvirZ"
   },
   "outputs": [],
   "source": [
    "def padWithZeros(X, margin=2):\n",
    "    newX = np.zeros((X.shape[0] + 2 * margin, X.shape[1] + 2* margin, X.shape[2]))\n",
    "    x_offset = margin\n",
    "    y_offset = margin\n",
    "    newX[x_offset:X.shape[0] + x_offset, y_offset:X.shape[1] + y_offset, :] = X\n",
    "    return newX"
   ]
  },
  {
   "cell_type": "code",
   "execution_count": 9,
   "metadata": {
    "id": "VMotOvASvirk"
   },
   "outputs": [],
   "source": [
    "def createImageCubes(X, y, windowSize=5, removeZeroLabels = True):\n",
    "    margin = int((windowSize - 1) / 2)\n",
    "    zeroPaddedX = padWithZeros(X, margin=margin)\n",
    "    # split patches\n",
    "    patchesData = np.zeros((X.shape[0] * X.shape[1], windowSize, windowSize, X.shape[2]))\n",
    "    patchesLabels = np.zeros((X.shape[0] * X.shape[1]))\n",
    "    patchIndex = 0\n",
    "    for r in range(margin, zeroPaddedX.shape[0] - margin):\n",
    "        for c in range(margin, zeroPaddedX.shape[1] - margin):\n",
    "            patch = zeroPaddedX[r - margin:r + margin + 1, c - margin:c + margin + 1]   \n",
    "            patchesData[patchIndex, :, :, :] = patch\n",
    "            patchesLabels[patchIndex] = y[r-margin, c-margin]\n",
    "            patchIndex = patchIndex + 1\n",
    "    if removeZeroLabels:\n",
    "        patchesData = patchesData[patchesLabels>0,:,:,:]\n",
    "        patchesLabels = patchesLabels[patchesLabels>0]\n",
    "        patchesLabels -= 1\n",
    "    return patchesData, patchesLabels"
   ]
  },
  {
   "cell_type": "code",
   "execution_count": 10,
   "metadata": {
    "colab": {
     "base_uri": "https://localhost:8080/"
    },
    "id": "WA1HHQR2virt",
    "outputId": "b6254096-fb23-4c9e-b676-dad4e14de6b6"
   },
   "outputs": [
    {
     "data": {
      "text/plain": [
       "((145, 145, 200), (145, 145))"
      ]
     },
     "execution_count": 10,
     "metadata": {},
     "output_type": "execute_result"
    }
   ],
   "source": [
    "X, y = loadData(dataset)\n",
    "\n",
    "X.shape, y.shape"
   ]
  },
  {
   "cell_type": "code",
   "execution_count": 11,
   "metadata": {
    "id": "-t05nhFGvir0"
   },
   "outputs": [],
   "source": [
    "K = X.shape[2]"
   ]
  },
  {
   "cell_type": "code",
   "execution_count": 12,
   "metadata": {
    "colab": {
     "base_uri": "https://localhost:8080/"
    },
    "id": "fLnJhFgZvir-",
    "outputId": "91aca617-9961-4507-eda9-a9463e706fb8"
   },
   "outputs": [
    {
     "data": {
      "text/plain": [
       "(145, 145, 30)"
      ]
     },
     "execution_count": 12,
     "metadata": {},
     "output_type": "execute_result"
    }
   ],
   "source": [
    "K = 30 if dataset == 'IP' else 15\n",
    "X,pca = applyPCA(X,numComponents=K)\n",
    "\n",
    "X.shape"
   ]
  },
  {
   "cell_type": "code",
   "execution_count": 13,
   "metadata": {
    "colab": {
     "base_uri": "https://localhost:8080/"
    },
    "id": "5VY0zJh-visG",
    "outputId": "0c921785-bd38-4c78-ae5c-0e20d855266a"
   },
   "outputs": [
    {
     "data": {
      "text/plain": [
       "((10249, 25, 25, 30), (10249,))"
      ]
     },
     "execution_count": 13,
     "metadata": {},
     "output_type": "execute_result"
    }
   ],
   "source": [
    "X, y = createImageCubes(X, y, windowSize=windowSize)\n",
    "\n",
    "X.shape, y.shape"
   ]
  },
  {
   "cell_type": "code",
   "execution_count": 14,
   "metadata": {
    "colab": {
     "base_uri": "https://localhost:8080/"
    },
    "id": "IHfhGxoxvisQ",
    "outputId": "2dc92fa4-3fca-4a69-999f-c1231d5e2ff2"
   },
   "outputs": [
    {
     "data": {
      "text/plain": [
       "((3074, 25, 25, 30), (7175, 25, 25, 30), (3074,), (7175,))"
      ]
     },
     "execution_count": 14,
     "metadata": {},
     "output_type": "execute_result"
    }
   ],
   "source": [
    "Xtrain, Xtest, ytrain, ytest = splitTrainTestSet(X, y, test_ratio)\n",
    "\n",
    "Xtrain.shape, Xtest.shape, ytrain.shape, ytest.shape"
   ]
  },
  {
   "cell_type": "markdown",
   "metadata": {
    "id": "5DYJ7vX5visa"
   },
   "source": [
    "Xtrain, Xvalid, ytrain, yvalid = splitTrainTestSet(Xtrain, ytrain, 0.3333)\n",
    "\n",
    "Xtrain.shape, Xvalid.shape, ytrain.shape, yvalid.shape"
   ]
  },
  {
   "cell_type": "markdown",
   "metadata": {
    "id": "ImXShO0dvisc"
   },
   "source": [
    "# Model and Training"
   ]
  },
  {
   "cell_type": "code",
   "execution_count": 15,
   "metadata": {
    "colab": {
     "base_uri": "https://localhost:8080/"
    },
    "id": "IoNjNFA_vise",
    "outputId": "756f878d-86ba-4089-d8dc-156b6a6eac4d"
   },
   "outputs": [
    {
     "data": {
      "text/plain": [
       "(3074, 25, 25, 30, 1)"
      ]
     },
     "execution_count": 15,
     "metadata": {},
     "output_type": "execute_result"
    }
   ],
   "source": [
    "Xtrain = Xtrain.reshape(-1, windowSize, windowSize, K, 1)\n",
    "Xtrain.shape"
   ]
  },
  {
   "cell_type": "code",
   "execution_count": 16,
   "metadata": {
    "colab": {
     "base_uri": "https://localhost:8080/"
    },
    "id": "7G1kSqbgvism",
    "outputId": "f2c0955f-55a9-4ece-cc5b-5fb307f81051"
   },
   "outputs": [
    {
     "data": {
      "text/plain": [
       "(3074, 16)"
      ]
     },
     "execution_count": 16,
     "metadata": {},
     "output_type": "execute_result"
    }
   ],
   "source": [
    "ytrain = np_utils.to_categorical(ytrain)\n",
    "ytrain.shape"
   ]
  },
  {
   "cell_type": "markdown",
   "metadata": {
    "id": "vrezb-7Rvisu"
   },
   "source": [
    "Xvalid = Xvalid.reshape(-1, windowSize, windowSize, K, 1)\n",
    "Xvalid.shape"
   ]
  },
  {
   "cell_type": "markdown",
   "metadata": {
    "id": "7dGLRXMMvisx"
   },
   "source": [
    "yvalid = np_utils.to_categorical(yvalid)\n",
    "yvalid.shape"
   ]
  },
  {
   "cell_type": "code",
   "execution_count": 17,
   "metadata": {
    "id": "aNz8CNqYvisz"
   },
   "outputs": [],
   "source": [
    "S = windowSize\n",
    "L = K\n",
    "output_units = 9 if (dataset == 'PU' or dataset == 'PC') else 16"
   ]
  },
  {
   "cell_type": "code",
   "execution_count": 18,
   "metadata": {
    "id": "uEecMnQYvis6"
   },
   "outputs": [],
   "source": [
    "## input layer\n",
    "input_layer = Input((S, S, L, 1))\n",
    "\n",
    "## convolutional layers\n",
    "conv_layer1 = Conv3D(filters=8, kernel_size=(3, 3, 7), activation='relu')(input_layer)\n",
    "conv_layer2 = Conv3D(filters=16, kernel_size=(3, 3, 5), activation='relu')(conv_layer1)\n",
    "conv_layer3 = Conv3D(filters=32, kernel_size=(3, 3, 3), activation='relu')(conv_layer2)\n",
    "#print(conv_layer3._keras_shape)\n",
    "conv3d_shape = conv_layer3.shape\n",
    "conv_layer3 = Reshape((conv3d_shape[1], conv3d_shape[2], conv3d_shape[3]*conv3d_shape[4]))(conv_layer3)\n",
    "conv_layer4 = Conv2D(filters=64, kernel_size=(3,3), activation='relu')(conv_layer3)\n",
    "\n",
    "flatten_layer = Flatten()(conv_layer4)\n",
    "\n",
    "## fully connected layers\n",
    "dense_layer1 = Dense(units=256, activation='relu')(flatten_layer)\n",
    "dense_layer1 = Dropout(0.4)(dense_layer1)\n",
    "dense_layer2 = Dense(units=128, activation='relu')(dense_layer1)\n",
    "dense_layer2 = Dropout(0.4)(dense_layer2)\n",
    "output_layer = Dense(units=output_units, activation='softmax')(dense_layer2)"
   ]
  },
  {
   "cell_type": "code",
   "execution_count": 19,
   "metadata": {
    "id": "X_jkfy0evitB"
   },
   "outputs": [],
   "source": [
    "# define the model with input layer and output layer\n",
    "model = Model(inputs=input_layer, outputs=output_layer)"
   ]
  },
  {
   "cell_type": "code",
   "execution_count": 20,
   "metadata": {
    "colab": {
     "base_uri": "https://localhost:8080/"
    },
    "id": "aMDUyRiivitH",
    "outputId": "5d0ec41b-525c-4727-9cc7-d4ac6d4aa67c"
   },
   "outputs": [
    {
     "name": "stdout",
     "output_type": "stream",
     "text": [
      "Model: \"model\"\n",
      "_________________________________________________________________\n",
      " Layer (type)                Output Shape              Param #   \n",
      "=================================================================\n",
      " input_1 (InputLayer)        [(None, 25, 25, 30, 1)]   0         \n",
      "                                                                 \n",
      " conv3d (Conv3D)             (None, 23, 23, 24, 8)     512       \n",
      "                                                                 \n",
      " conv3d_1 (Conv3D)           (None, 21, 21, 20, 16)    5776      \n",
      "                                                                 \n",
      " conv3d_2 (Conv3D)           (None, 19, 19, 18, 32)    13856     \n",
      "                                                                 \n",
      " reshape (Reshape)           (None, 19, 19, 576)       0         \n",
      "                                                                 \n",
      " conv2d (Conv2D)             (None, 17, 17, 64)        331840    \n",
      "                                                                 \n",
      " flatten (Flatten)           (None, 18496)             0         \n",
      "                                                                 \n",
      " dense (Dense)               (None, 256)               4735232   \n",
      "                                                                 \n",
      " dropout (Dropout)           (None, 256)               0         \n",
      "                                                                 \n",
      " dense_1 (Dense)             (None, 128)               32896     \n",
      "                                                                 \n",
      " dropout_1 (Dropout)         (None, 128)               0         \n",
      "                                                                 \n",
      " dense_2 (Dense)             (None, 16)                2064      \n",
      "                                                                 \n",
      "=================================================================\n",
      "Total params: 5,122,176\n",
      "Trainable params: 5,122,176\n",
      "Non-trainable params: 0\n",
      "_________________________________________________________________\n"
     ]
    }
   ],
   "source": [
    "model.summary()"
   ]
  },
  {
   "cell_type": "code",
   "execution_count": 22,
   "metadata": {
    "id": "KEfKakAjvitN"
   },
   "outputs": [],
   "source": [
    "# compiling the model\n",
    "adam = Adam(learning_rate=0.001, decay=1e-06)\n",
    "model.compile(loss='categorical_crossentropy', optimizer=adam, metrics=['accuracy'])"
   ]
  },
  {
   "cell_type": "code",
   "execution_count": 23,
   "metadata": {
    "id": "ddDzXAfUvitU"
   },
   "outputs": [],
   "source": [
    "# checkpoint\n",
    "filepath = \"best-model.hdf5\"\n",
    "checkpoint = ModelCheckpoint(filepath, monitor='acc', verbose=1, save_best_only=True, mode='max')\n",
    "callbacks_list = [checkpoint]"
   ]
  },
  {
   "cell_type": "code",
   "execution_count": 24,
   "metadata": {
    "colab": {
     "base_uri": "https://localhost:8080/"
    },
    "id": "ENyt1ex5vitc",
    "outputId": "a5c3e08e-876b-44d8-f056-9b240bbbc95b"
   },
   "outputs": [
    {
     "name": "stdout",
     "output_type": "stream",
     "text": [
      "Epoch 1/100\n",
      "13/13 [==============================] - ETA: 0s - loss: 2.6249 - accuracy: 0.1867WARNING:tensorflow:Can save best model only with acc available, skipping.\n",
      "13/13 [==============================] - 20s 490ms/step - loss: 2.6249 - accuracy: 0.1867\n",
      "Epoch 2/100\n",
      "12/13 [==========================>...] - ETA: 0s - loss: 2.1933 - accuracy: 0.2679WARNING:tensorflow:Can save best model only with acc available, skipping.\n",
      "13/13 [==============================] - 6s 475ms/step - loss: 2.1928 - accuracy: 0.2681\n",
      "Epoch 3/100\n",
      "12/13 [==========================>...] - ETA: 0s - loss: 1.4967 - accuracy: 0.4840WARNING:tensorflow:Can save best model only with acc available, skipping.\n",
      "13/13 [==============================] - 6s 475ms/step - loss: 1.4972 - accuracy: 0.4841\n",
      "Epoch 4/100\n",
      "12/13 [==========================>...] - ETA: 0s - loss: 0.9362 - accuracy: 0.6807WARNING:tensorflow:Can save best model only with acc available, skipping.\n",
      "13/13 [==============================] - 6s 479ms/step - loss: 0.9359 - accuracy: 0.6809\n",
      "Epoch 5/100\n",
      "12/13 [==========================>...] - ETA: 0s - loss: 0.5692 - accuracy: 0.8190WARNING:tensorflow:Can save best model only with acc available, skipping.\n",
      "13/13 [==============================] - 6s 476ms/step - loss: 0.5690 - accuracy: 0.8191\n",
      "Epoch 6/100\n",
      "12/13 [==========================>...] - ETA: 0s - loss: 0.3417 - accuracy: 0.8919WARNING:tensorflow:Can save best model only with acc available, skipping.\n",
      "13/13 [==============================] - 6s 479ms/step - loss: 0.3417 - accuracy: 0.8920\n",
      "Epoch 7/100\n",
      "12/13 [==========================>...] - ETA: 0s - loss: 0.2095 - accuracy: 0.9382WARNING:tensorflow:Can save best model only with acc available, skipping.\n",
      "13/13 [==============================] - 6s 477ms/step - loss: 0.2094 - accuracy: 0.9382\n",
      "Epoch 8/100\n",
      "12/13 [==========================>...] - ETA: 0s - loss: 0.1236 - accuracy: 0.9616WARNING:tensorflow:Can save best model only with acc available, skipping.\n",
      "13/13 [==============================] - 6s 480ms/step - loss: 0.1235 - accuracy: 0.9616\n",
      "Epoch 9/100\n",
      "12/13 [==========================>...] - ETA: 0s - loss: 0.0920 - accuracy: 0.9707WARNING:tensorflow:Can save best model only with acc available, skipping.\n",
      "13/13 [==============================] - 6s 478ms/step - loss: 0.0920 - accuracy: 0.9707\n",
      "Epoch 10/100\n",
      "12/13 [==========================>...] - ETA: 0s - loss: 0.0839 - accuracy: 0.9762WARNING:tensorflow:Can save best model only with acc available, skipping.\n",
      "13/13 [==============================] - 6s 477ms/step - loss: 0.0838 - accuracy: 0.9763\n",
      "Epoch 11/100\n",
      "12/13 [==========================>...] - ETA: 0s - loss: 0.0803 - accuracy: 0.9753WARNING:tensorflow:Can save best model only with acc available, skipping.\n",
      "13/13 [==============================] - 6s 479ms/step - loss: 0.0803 - accuracy: 0.9753\n",
      "Epoch 12/100\n",
      "12/13 [==========================>...] - ETA: 0s - loss: 0.0596 - accuracy: 0.9837WARNING:tensorflow:Can save best model only with acc available, skipping.\n",
      "13/13 [==============================] - 6s 481ms/step - loss: 0.0595 - accuracy: 0.9837\n",
      "Epoch 13/100\n",
      "12/13 [==========================>...] - ETA: 0s - loss: 0.0511 - accuracy: 0.9847WARNING:tensorflow:Can save best model only with acc available, skipping.\n",
      "13/13 [==============================] - 6s 481ms/step - loss: 0.0511 - accuracy: 0.9847\n",
      "Epoch 14/100\n",
      "12/13 [==========================>...] - ETA: 0s - loss: 0.0429 - accuracy: 0.9880WARNING:tensorflow:Can save best model only with acc available, skipping.\n",
      "13/13 [==============================] - 6s 479ms/step - loss: 0.0429 - accuracy: 0.9880\n",
      "Epoch 15/100\n",
      "12/13 [==========================>...] - ETA: 0s - loss: 0.0307 - accuracy: 0.9919WARNING:tensorflow:Can save best model only with acc available, skipping.\n",
      "13/13 [==============================] - 6s 482ms/step - loss: 0.0307 - accuracy: 0.9919\n",
      "Epoch 16/100\n",
      "12/13 [==========================>...] - ETA: 0s - loss: 0.0326 - accuracy: 0.9915WARNING:tensorflow:Can save best model only with acc available, skipping.\n",
      "13/13 [==============================] - 6s 480ms/step - loss: 0.0326 - accuracy: 0.9915\n",
      "Epoch 17/100\n",
      "12/13 [==========================>...] - ETA: 0s - loss: 0.0286 - accuracy: 0.9925WARNING:tensorflow:Can save best model only with acc available, skipping.\n",
      "13/13 [==============================] - 6s 480ms/step - loss: 0.0286 - accuracy: 0.9925\n",
      "Epoch 18/100\n",
      "12/13 [==========================>...] - ETA: 0s - loss: 0.0270 - accuracy: 0.9899WARNING:tensorflow:Can save best model only with acc available, skipping.\n",
      "13/13 [==============================] - 6s 478ms/step - loss: 0.0270 - accuracy: 0.9899\n",
      "Epoch 19/100\n",
      "12/13 [==========================>...] - ETA: 0s - loss: 0.0280 - accuracy: 0.9912WARNING:tensorflow:Can save best model only with acc available, skipping.\n",
      "13/13 [==============================] - 6s 480ms/step - loss: 0.0281 - accuracy: 0.9912\n",
      "Epoch 20/100\n",
      "12/13 [==========================>...] - ETA: 0s - loss: 0.0402 - accuracy: 0.9899WARNING:tensorflow:Can save best model only with acc available, skipping.\n",
      "13/13 [==============================] - 6s 481ms/step - loss: 0.0402 - accuracy: 0.9899\n",
      "Epoch 21/100\n",
      "12/13 [==========================>...] - ETA: 0s - loss: 0.0410 - accuracy: 0.9883WARNING:tensorflow:Can save best model only with acc available, skipping.\n",
      "13/13 [==============================] - 6s 481ms/step - loss: 0.0410 - accuracy: 0.9883\n",
      "Epoch 22/100\n",
      "12/13 [==========================>...] - ETA: 0s - loss: 0.0275 - accuracy: 0.9925WARNING:tensorflow:Can save best model only with acc available, skipping.\n",
      "13/13 [==============================] - 6s 477ms/step - loss: 0.0275 - accuracy: 0.9925\n",
      "Epoch 23/100\n",
      "12/13 [==========================>...] - ETA: 0s - loss: 0.0183 - accuracy: 0.9954WARNING:tensorflow:Can save best model only with acc available, skipping.\n",
      "13/13 [==============================] - 6s 479ms/step - loss: 0.0183 - accuracy: 0.9954\n",
      "Epoch 24/100\n",
      "12/13 [==========================>...] - ETA: 0s - loss: 0.0151 - accuracy: 0.9948WARNING:tensorflow:Can save best model only with acc available, skipping.\n",
      "13/13 [==============================] - 6s 480ms/step - loss: 0.0151 - accuracy: 0.9948\n",
      "Epoch 25/100\n",
      "12/13 [==========================>...] - ETA: 0s - loss: 0.0195 - accuracy: 0.9948WARNING:tensorflow:Can save best model only with acc available, skipping.\n",
      "13/13 [==============================] - 6s 480ms/step - loss: 0.0195 - accuracy: 0.9948\n",
      "Epoch 26/100\n",
      "12/13 [==========================>...] - ETA: 0s - loss: 0.0194 - accuracy: 0.9941WARNING:tensorflow:Can save best model only with acc available, skipping.\n",
      "13/13 [==============================] - 6s 478ms/step - loss: 0.0194 - accuracy: 0.9941\n",
      "Epoch 27/100\n",
      "12/13 [==========================>...] - ETA: 0s - loss: 0.0149 - accuracy: 0.9967WARNING:tensorflow:Can save best model only with acc available, skipping.\n",
      "13/13 [==============================] - 6s 478ms/step - loss: 0.0149 - accuracy: 0.9967\n",
      "Epoch 28/100\n",
      "12/13 [==========================>...] - ETA: 0s - loss: 0.0239 - accuracy: 0.9932WARNING:tensorflow:Can save best model only with acc available, skipping.\n",
      "13/13 [==============================] - 6s 480ms/step - loss: 0.0239 - accuracy: 0.9932\n",
      "Epoch 29/100\n",
      "12/13 [==========================>...] - ETA: 0s - loss: 0.0275 - accuracy: 0.9928WARNING:tensorflow:Can save best model only with acc available, skipping.\n",
      "13/13 [==============================] - 6s 479ms/step - loss: 0.0275 - accuracy: 0.9928\n",
      "Epoch 30/100\n",
      "12/13 [==========================>...] - ETA: 0s - loss: 0.0245 - accuracy: 0.9912WARNING:tensorflow:Can save best model only with acc available, skipping.\n",
      "13/13 [==============================] - 6s 478ms/step - loss: 0.0245 - accuracy: 0.9912\n",
      "Epoch 31/100\n",
      "12/13 [==========================>...] - ETA: 0s - loss: 0.0145 - accuracy: 0.9967WARNING:tensorflow:Can save best model only with acc available, skipping.\n",
      "13/13 [==============================] - 6s 480ms/step - loss: 0.0145 - accuracy: 0.9967\n",
      "Epoch 32/100\n",
      "12/13 [==========================>...] - ETA: 0s - loss: 0.0098 - accuracy: 0.9961WARNING:tensorflow:Can save best model only with acc available, skipping.\n",
      "13/13 [==============================] - 6s 478ms/step - loss: 0.0098 - accuracy: 0.9961\n",
      "Epoch 33/100\n",
      "12/13 [==========================>...] - ETA: 0s - loss: 0.0063 - accuracy: 0.9980WARNING:tensorflow:Can save best model only with acc available, skipping.\n",
      "13/13 [==============================] - 6s 479ms/step - loss: 0.0063 - accuracy: 0.9980\n",
      "Epoch 34/100\n",
      "12/13 [==========================>...] - ETA: 0s - loss: 0.0112 - accuracy: 0.9971WARNING:tensorflow:Can save best model only with acc available, skipping.\n",
      "13/13 [==============================] - 6s 479ms/step - loss: 0.0112 - accuracy: 0.9971\n",
      "Epoch 35/100\n",
      "12/13 [==========================>...] - ETA: 0s - loss: 0.0122 - accuracy: 0.9971WARNING:tensorflow:Can save best model only with acc available, skipping.\n",
      "13/13 [==============================] - 6s 478ms/step - loss: 0.0122 - accuracy: 0.9971\n",
      "Epoch 36/100\n",
      "12/13 [==========================>...] - ETA: 0s - loss: 0.0065 - accuracy: 0.9980WARNING:tensorflow:Can save best model only with acc available, skipping.\n",
      "13/13 [==============================] - 6s 479ms/step - loss: 0.0065 - accuracy: 0.9980\n",
      "Epoch 37/100\n",
      "12/13 [==========================>...] - ETA: 0s - loss: 0.0082 - accuracy: 0.9980WARNING:tensorflow:Can save best model only with acc available, skipping.\n",
      "13/13 [==============================] - 6s 479ms/step - loss: 0.0082 - accuracy: 0.9980\n",
      "Epoch 38/100\n",
      "12/13 [==========================>...] - ETA: 0s - loss: 0.0165 - accuracy: 0.9964WARNING:tensorflow:Can save best model only with acc available, skipping.\n",
      "13/13 [==============================] - 6s 479ms/step - loss: 0.0165 - accuracy: 0.9964\n",
      "Epoch 39/100\n",
      "12/13 [==========================>...] - ETA: 0s - loss: 0.0098 - accuracy: 0.9967WARNING:tensorflow:Can save best model only with acc available, skipping.\n",
      "13/13 [==============================] - 6s 481ms/step - loss: 0.0098 - accuracy: 0.9967\n",
      "Epoch 40/100\n",
      "12/13 [==========================>...] - ETA: 0s - loss: 0.0160 - accuracy: 0.9941WARNING:tensorflow:Can save best model only with acc available, skipping.\n",
      "13/13 [==============================] - 6s 479ms/step - loss: 0.0160 - accuracy: 0.9941\n",
      "Epoch 41/100\n",
      "12/13 [==========================>...] - ETA: 0s - loss: 0.0143 - accuracy: 0.9961WARNING:tensorflow:Can save best model only with acc available, skipping.\n",
      "13/13 [==============================] - 6s 478ms/step - loss: 0.0143 - accuracy: 0.9961\n",
      "Epoch 42/100\n",
      "12/13 [==========================>...] - ETA: 0s - loss: 0.0095 - accuracy: 0.9964WARNING:tensorflow:Can save best model only with acc available, skipping.\n",
      "13/13 [==============================] - 6s 479ms/step - loss: 0.0095 - accuracy: 0.9964\n",
      "Epoch 43/100\n",
      "12/13 [==========================>...] - ETA: 0s - loss: 0.0125 - accuracy: 0.9961WARNING:tensorflow:Can save best model only with acc available, skipping.\n",
      "13/13 [==============================] - 6s 479ms/step - loss: 0.0125 - accuracy: 0.9961\n",
      "Epoch 44/100\n",
      "12/13 [==========================>...] - ETA: 0s - loss: 0.0079 - accuracy: 0.9971WARNING:tensorflow:Can save best model only with acc available, skipping.\n",
      "13/13 [==============================] - 6s 479ms/step - loss: 0.0079 - accuracy: 0.9971\n",
      "Epoch 45/100\n",
      "12/13 [==========================>...] - ETA: 0s - loss: 0.0060 - accuracy: 0.9980WARNING:tensorflow:Can save best model only with acc available, skipping.\n",
      "13/13 [==============================] - 6s 478ms/step - loss: 0.0060 - accuracy: 0.9980\n",
      "Epoch 46/100\n",
      "12/13 [==========================>...] - ETA: 0s - loss: 0.0126 - accuracy: 0.9958WARNING:tensorflow:Can save best model only with acc available, skipping.\n",
      "13/13 [==============================] - 6s 480ms/step - loss: 0.0126 - accuracy: 0.9958\n",
      "Epoch 47/100\n",
      "12/13 [==========================>...] - ETA: 0s - loss: 0.0086 - accuracy: 0.9977WARNING:tensorflow:Can save best model only with acc available, skipping.\n",
      "13/13 [==============================] - 6s 478ms/step - loss: 0.0100 - accuracy: 0.9974\n",
      "Epoch 48/100\n",
      "12/13 [==========================>...] - ETA: 0s - loss: 0.2827 - accuracy: 0.9307WARNING:tensorflow:Can save best model only with acc available, skipping.\n",
      "13/13 [==============================] - 6s 479ms/step - loss: 0.2826 - accuracy: 0.9307\n",
      "Epoch 49/100\n",
      "12/13 [==========================>...] - ETA: 0s - loss: 0.0852 - accuracy: 0.9772WARNING:tensorflow:Can save best model only with acc available, skipping.\n",
      "13/13 [==============================] - 6s 476ms/step - loss: 0.0885 - accuracy: 0.9769\n",
      "Epoch 50/100\n",
      "12/13 [==========================>...] - ETA: 0s - loss: 0.3789 - accuracy: 0.9079WARNING:tensorflow:Can save best model only with acc available, skipping.\n",
      "13/13 [==============================] - 6s 476ms/step - loss: 0.3786 - accuracy: 0.9079\n",
      "Epoch 51/100\n",
      "12/13 [==========================>...] - ETA: 0s - loss: 0.1079 - accuracy: 0.9701WARNING:tensorflow:Can save best model only with acc available, skipping.\n",
      "13/13 [==============================] - 6s 477ms/step - loss: 0.1078 - accuracy: 0.9701\n",
      "Epoch 52/100\n",
      "12/13 [==========================>...] - ETA: 0s - loss: 0.0577 - accuracy: 0.9863WARNING:tensorflow:Can save best model only with acc available, skipping.\n",
      "13/13 [==============================] - 6s 476ms/step - loss: 0.0577 - accuracy: 0.9863\n",
      "Epoch 53/100\n",
      "12/13 [==========================>...] - ETA: 0s - loss: 0.0438 - accuracy: 0.9886WARNING:tensorflow:Can save best model only with acc available, skipping.\n",
      "13/13 [==============================] - 6s 474ms/step - loss: 0.0438 - accuracy: 0.9886\n",
      "Epoch 54/100\n",
      "12/13 [==========================>...] - ETA: 0s - loss: 0.0231 - accuracy: 0.9951WARNING:tensorflow:Can save best model only with acc available, skipping.\n",
      "13/13 [==============================] - 6s 475ms/step - loss: 0.0231 - accuracy: 0.9951\n",
      "Epoch 55/100\n",
      "12/13 [==========================>...] - ETA: 0s - loss: 0.0304 - accuracy: 0.9919WARNING:tensorflow:Can save best model only with acc available, skipping.\n",
      "13/13 [==============================] - 6s 475ms/step - loss: 0.0304 - accuracy: 0.9919\n",
      "Epoch 56/100\n",
      "12/13 [==========================>...] - ETA: 0s - loss: 0.0369 - accuracy: 0.9925WARNING:tensorflow:Can save best model only with acc available, skipping.\n",
      "13/13 [==============================] - 6s 476ms/step - loss: 0.0368 - accuracy: 0.9925\n",
      "Epoch 57/100\n",
      "12/13 [==========================>...] - ETA: 0s - loss: 0.0110 - accuracy: 0.9964WARNING:tensorflow:Can save best model only with acc available, skipping.\n",
      "13/13 [==============================] - 6s 476ms/step - loss: 0.0110 - accuracy: 0.9964\n",
      "Epoch 58/100\n",
      "12/13 [==========================>...] - ETA: 0s - loss: 0.0113 - accuracy: 0.9958WARNING:tensorflow:Can save best model only with acc available, skipping.\n",
      "13/13 [==============================] - 6s 473ms/step - loss: 0.0113 - accuracy: 0.9958\n",
      "Epoch 59/100\n",
      "12/13 [==========================>...] - ETA: 0s - loss: 0.0105 - accuracy: 0.9967WARNING:tensorflow:Can save best model only with acc available, skipping.\n",
      "13/13 [==============================] - 6s 475ms/step - loss: 0.0105 - accuracy: 0.9967\n",
      "Epoch 60/100\n",
      "12/13 [==========================>...] - ETA: 0s - loss: 0.0096 - accuracy: 0.9984WARNING:tensorflow:Can save best model only with acc available, skipping.\n",
      "13/13 [==============================] - 6s 476ms/step - loss: 0.0096 - accuracy: 0.9984\n",
      "Epoch 61/100\n",
      "12/13 [==========================>...] - ETA: 0s - loss: 0.0067 - accuracy: 0.9974WARNING:tensorflow:Can save best model only with acc available, skipping.\n",
      "13/13 [==============================] - 6s 476ms/step - loss: 0.0067 - accuracy: 0.9974\n",
      "Epoch 62/100\n",
      "12/13 [==========================>...] - ETA: 0s - loss: 0.0152 - accuracy: 0.9951WARNING:tensorflow:Can save best model only with acc available, skipping.\n",
      "13/13 [==============================] - 6s 476ms/step - loss: 0.0152 - accuracy: 0.9951\n",
      "Epoch 63/100\n",
      "12/13 [==========================>...] - ETA: 0s - loss: 0.0085 - accuracy: 0.9984WARNING:tensorflow:Can save best model only with acc available, skipping.\n",
      "13/13 [==============================] - 6s 476ms/step - loss: 0.0085 - accuracy: 0.9984\n",
      "Epoch 64/100\n",
      "12/13 [==========================>...] - ETA: 0s - loss: 0.0136 - accuracy: 0.9951WARNING:tensorflow:Can save best model only with acc available, skipping.\n",
      "13/13 [==============================] - 6s 476ms/step - loss: 0.0136 - accuracy: 0.9951\n",
      "Epoch 65/100\n",
      "12/13 [==========================>...] - ETA: 0s - loss: 0.0097 - accuracy: 0.9974WARNING:tensorflow:Can save best model only with acc available, skipping.\n",
      "13/13 [==============================] - 6s 475ms/step - loss: 0.0097 - accuracy: 0.9974\n",
      "Epoch 66/100\n",
      "12/13 [==========================>...] - ETA: 0s - loss: 0.0126 - accuracy: 0.9967WARNING:tensorflow:Can save best model only with acc available, skipping.\n",
      "13/13 [==============================] - 6s 474ms/step - loss: 0.0126 - accuracy: 0.9967\n",
      "Epoch 67/100\n",
      "12/13 [==========================>...] - ETA: 0s - loss: 0.0083 - accuracy: 0.9977WARNING:tensorflow:Can save best model only with acc available, skipping.\n",
      "13/13 [==============================] - 6s 474ms/step - loss: 0.0083 - accuracy: 0.9977\n",
      "Epoch 68/100\n",
      "12/13 [==========================>...] - ETA: 0s - loss: 0.0132 - accuracy: 0.9974WARNING:tensorflow:Can save best model only with acc available, skipping.\n",
      "13/13 [==============================] - 6s 474ms/step - loss: 0.0132 - accuracy: 0.9974\n",
      "Epoch 69/100\n",
      "12/13 [==========================>...] - ETA: 0s - loss: 0.0115 - accuracy: 0.9958WARNING:tensorflow:Can save best model only with acc available, skipping.\n",
      "13/13 [==============================] - 6s 475ms/step - loss: 0.0115 - accuracy: 0.9958\n",
      "Epoch 70/100\n",
      "12/13 [==========================>...] - ETA: 0s - loss: 0.0107 - accuracy: 0.9967WARNING:tensorflow:Can save best model only with acc available, skipping.\n",
      "13/13 [==============================] - 6s 478ms/step - loss: 0.0107 - accuracy: 0.9967\n",
      "Epoch 71/100\n",
      "12/13 [==========================>...] - ETA: 0s - loss: 0.0117 - accuracy: 0.9967WARNING:tensorflow:Can save best model only with acc available, skipping.\n",
      "13/13 [==============================] - 6s 477ms/step - loss: 0.0117 - accuracy: 0.9967\n",
      "Epoch 72/100\n",
      "12/13 [==========================>...] - ETA: 0s - loss: 0.0160 - accuracy: 0.9961WARNING:tensorflow:Can save best model only with acc available, skipping.\n",
      "13/13 [==============================] - 6s 475ms/step - loss: 0.0160 - accuracy: 0.9961\n",
      "Epoch 73/100\n",
      "12/13 [==========================>...] - ETA: 0s - loss: 0.0120 - accuracy: 0.9961WARNING:tensorflow:Can save best model only with acc available, skipping.\n",
      "13/13 [==============================] - 6s 475ms/step - loss: 0.0120 - accuracy: 0.9961\n",
      "Epoch 74/100\n",
      "12/13 [==========================>...] - ETA: 0s - loss: 0.0066 - accuracy: 0.9974WARNING:tensorflow:Can save best model only with acc available, skipping.\n",
      "13/13 [==============================] - 6s 475ms/step - loss: 0.0066 - accuracy: 0.9974\n",
      "Epoch 75/100\n",
      "12/13 [==========================>...] - ETA: 0s - loss: 0.0043 - accuracy: 0.9990WARNING:tensorflow:Can save best model only with acc available, skipping.\n",
      "13/13 [==============================] - 6s 477ms/step - loss: 0.0043 - accuracy: 0.9990\n",
      "Epoch 76/100\n",
      "12/13 [==========================>...] - ETA: 0s - loss: 0.0057 - accuracy: 0.9984WARNING:tensorflow:Can save best model only with acc available, skipping.\n",
      "13/13 [==============================] - 6s 476ms/step - loss: 0.0057 - accuracy: 0.9984\n",
      "Epoch 77/100\n",
      "12/13 [==========================>...] - ETA: 0s - loss: 0.0039 - accuracy: 0.9987WARNING:tensorflow:Can save best model only with acc available, skipping.\n",
      "13/13 [==============================] - 6s 474ms/step - loss: 0.0039 - accuracy: 0.9987\n",
      "Epoch 78/100\n",
      "12/13 [==========================>...] - ETA: 0s - loss: 0.0027 - accuracy: 0.9990WARNING:tensorflow:Can save best model only with acc available, skipping.\n",
      "13/13 [==============================] - 6s 476ms/step - loss: 0.0027 - accuracy: 0.9990\n",
      "Epoch 79/100\n",
      "12/13 [==========================>...] - ETA: 0s - loss: 0.0091 - accuracy: 0.9977WARNING:tensorflow:Can save best model only with acc available, skipping.\n",
      "13/13 [==============================] - 6s 476ms/step - loss: 0.0090 - accuracy: 0.9977\n",
      "Epoch 80/100\n",
      "12/13 [==========================>...] - ETA: 0s - loss: 0.0040 - accuracy: 0.9987WARNING:tensorflow:Can save best model only with acc available, skipping.\n",
      "13/13 [==============================] - 6s 477ms/step - loss: 0.0040 - accuracy: 0.9987\n",
      "Epoch 81/100\n",
      "12/13 [==========================>...] - ETA: 0s - loss: 0.0050 - accuracy: 0.9990WARNING:tensorflow:Can save best model only with acc available, skipping.\n",
      "13/13 [==============================] - 6s 477ms/step - loss: 0.0050 - accuracy: 0.9990\n",
      "Epoch 82/100\n",
      "12/13 [==========================>...] - ETA: 0s - loss: 0.0063 - accuracy: 0.9980WARNING:tensorflow:Can save best model only with acc available, skipping.\n",
      "13/13 [==============================] - 6s 476ms/step - loss: 0.0063 - accuracy: 0.9980\n",
      "Epoch 83/100\n",
      "12/13 [==========================>...] - ETA: 0s - loss: 0.0028 - accuracy: 0.9990WARNING:tensorflow:Can save best model only with acc available, skipping.\n",
      "13/13 [==============================] - 6s 475ms/step - loss: 0.0028 - accuracy: 0.9990\n",
      "Epoch 84/100\n",
      "12/13 [==========================>...] - ETA: 0s - loss: 0.0016 - accuracy: 0.9993WARNING:tensorflow:Can save best model only with acc available, skipping.\n",
      "13/13 [==============================] - 6s 476ms/step - loss: 0.0015 - accuracy: 0.9993\n",
      "Epoch 85/100\n",
      "12/13 [==========================>...] - ETA: 0s - loss: 0.0018 - accuracy: 0.9993WARNING:tensorflow:Can save best model only with acc available, skipping.\n",
      "13/13 [==============================] - 6s 478ms/step - loss: 0.0018 - accuracy: 0.9993\n",
      "Epoch 86/100\n",
      "12/13 [==========================>...] - ETA: 0s - loss: 0.0038 - accuracy: 0.9984WARNING:tensorflow:Can save best model only with acc available, skipping.\n",
      "13/13 [==============================] - 6s 476ms/step - loss: 0.0038 - accuracy: 0.9984\n",
      "Epoch 87/100\n",
      "12/13 [==========================>...] - ETA: 0s - loss: 0.0044 - accuracy: 0.9990WARNING:tensorflow:Can save best model only with acc available, skipping.\n",
      "13/13 [==============================] - 6s 475ms/step - loss: 0.0044 - accuracy: 0.9990\n",
      "Epoch 88/100\n",
      "12/13 [==========================>...] - ETA: 0s - loss: 0.0016 - accuracy: 0.9997WARNING:tensorflow:Can save best model only with acc available, skipping.\n",
      "13/13 [==============================] - 6s 475ms/step - loss: 0.0016 - accuracy: 0.9997\n",
      "Epoch 89/100\n",
      "12/13 [==========================>...] - ETA: 0s - loss: 0.0022 - accuracy: 0.9993WARNING:tensorflow:Can save best model only with acc available, skipping.\n",
      "13/13 [==============================] - 6s 476ms/step - loss: 0.0022 - accuracy: 0.9993\n",
      "Epoch 90/100\n",
      "12/13 [==========================>...] - ETA: 0s - loss: 0.0028 - accuracy: 0.9993WARNING:tensorflow:Can save best model only with acc available, skipping.\n",
      "13/13 [==============================] - 6s 476ms/step - loss: 0.0028 - accuracy: 0.9993\n",
      "Epoch 91/100\n",
      "12/13 [==========================>...] - ETA: 0s - loss: 0.0037 - accuracy: 0.9984WARNING:tensorflow:Can save best model only with acc available, skipping.\n",
      "13/13 [==============================] - 6s 474ms/step - loss: 0.0037 - accuracy: 0.9984\n",
      "Epoch 92/100\n",
      "12/13 [==========================>...] - ETA: 0s - loss: 0.0013 - accuracy: 0.9997WARNING:tensorflow:Can save best model only with acc available, skipping.\n",
      "13/13 [==============================] - 6s 476ms/step - loss: 0.0013 - accuracy: 0.9997\n",
      "Epoch 93/100\n",
      "12/13 [==========================>...] - ETA: 0s - loss: 0.0018 - accuracy: 0.9993WARNING:tensorflow:Can save best model only with acc available, skipping.\n",
      "13/13 [==============================] - 6s 476ms/step - loss: 0.0018 - accuracy: 0.9993\n",
      "Epoch 94/100\n",
      "12/13 [==========================>...] - ETA: 0s - loss: 0.0028 - accuracy: 0.9990WARNING:tensorflow:Can save best model only with acc available, skipping.\n",
      "13/13 [==============================] - 6s 475ms/step - loss: 0.0028 - accuracy: 0.9990\n",
      "Epoch 95/100\n",
      "12/13 [==========================>...] - ETA: 0s - loss: 0.0014 - accuracy: 0.9997WARNING:tensorflow:Can save best model only with acc available, skipping.\n",
      "13/13 [==============================] - 6s 474ms/step - loss: 0.0014 - accuracy: 0.9997\n",
      "Epoch 96/100\n",
      "12/13 [==========================>...] - ETA: 0s - loss: 0.0027 - accuracy: 0.9987WARNING:tensorflow:Can save best model only with acc available, skipping.\n",
      "13/13 [==============================] - 6s 476ms/step - loss: 0.0027 - accuracy: 0.9987\n",
      "Epoch 97/100\n",
      "12/13 [==========================>...] - ETA: 0s - loss: 0.0096 - accuracy: 0.9980WARNING:tensorflow:Can save best model only with acc available, skipping.\n",
      "13/13 [==============================] - 6s 476ms/step - loss: 0.0096 - accuracy: 0.9980\n",
      "Epoch 98/100\n",
      "12/13 [==========================>...] - ETA: 0s - loss: 0.0015 - accuracy: 0.9997WARNING:tensorflow:Can save best model only with acc available, skipping.\n",
      "13/13 [==============================] - 6s 474ms/step - loss: 0.0015 - accuracy: 0.9997\n",
      "Epoch 99/100\n",
      "12/13 [==========================>...] - ETA: 0s - loss: 0.0018 - accuracy: 0.9997WARNING:tensorflow:Can save best model only with acc available, skipping.\n",
      "13/13 [==============================] - 6s 475ms/step - loss: 0.0018 - accuracy: 0.9997\n",
      "Epoch 100/100\n",
      "12/13 [==========================>...] - ETA: 0s - loss: 0.0028 - accuracy: 0.9990WARNING:tensorflow:Can save best model only with acc available, skipping.\n",
      "13/13 [==============================] - 6s 475ms/step - loss: 0.0028 - accuracy: 0.9990\n"
     ]
    }
   ],
   "source": [
    "history = model.fit(x=Xtrain, y=ytrain, batch_size=256, epochs=100, callbacks=callbacks_list)"
   ]
  },
  {
   "cell_type": "code",
   "execution_count": null,
   "metadata": {
    "id": "PfSP_f8ywJR1"
   },
   "outputs": [],
   "source": [
    "model.save(\"best-model.hdf5\")"
   ]
  },
  {
   "cell_type": "markdown",
   "metadata": {
    "id": "wg3XlImlvitn"
   },
   "source": [
    "# Validation"
   ]
  },
  {
   "cell_type": "code",
   "execution_count": null,
   "metadata": {
    "id": "GKH6QFcmvitp"
   },
   "outputs": [],
   "source": [
    "# load best weights\n",
    "model.load_weights(\"best-model.hdf5\")\n",
    "model.compile(loss='categorical_crossentropy', optimizer=adam, metrics=['accuracy'])"
   ]
  },
  {
   "cell_type": "code",
   "execution_count": null,
   "metadata": {
    "id": "6ynlGSBkvitv"
   },
   "outputs": [],
   "source": [
    "Xtest = Xtest.reshape(-1, windowSize, windowSize, K, 1)\n",
    "Xtest.shape"
   ]
  },
  {
   "cell_type": "code",
   "execution_count": null,
   "metadata": {
    "id": "FrQBCdrqvit3"
   },
   "outputs": [],
   "source": [
    "ytest = np_utils.to_categorical(ytest)\n",
    "ytest.shape"
   ]
  },
  {
   "cell_type": "code",
   "execution_count": null,
   "metadata": {
    "id": "ZDidpOOjvit-"
   },
   "outputs": [],
   "source": [
    "Y_pred_test = model.predict(Xtest)\n",
    "y_pred_test = np.argmax(Y_pred_test, axis=1)\n",
    "\n",
    "classification = classification_report(np.argmax(ytest, axis=1), y_pred_test)\n",
    "print(classification)"
   ]
  },
  {
   "cell_type": "code",
   "execution_count": null,
   "metadata": {
    "id": "fY39UA0nviuG"
   },
   "outputs": [],
   "source": [
    "def AA_andEachClassAccuracy(confusion_matrix):\n",
    "    counter = confusion_matrix.shape[0]\n",
    "    list_diag = np.diag(confusion_matrix)\n",
    "    list_raw_sum = np.sum(confusion_matrix, axis=1)\n",
    "    each_acc = np.nan_to_num(truediv(list_diag, list_raw_sum))\n",
    "    average_acc = np.mean(each_acc)\n",
    "    return each_acc, average_acc"
   ]
  },
  {
   "cell_type": "code",
   "execution_count": null,
   "metadata": {
    "id": "_rNFvCZDviuM"
   },
   "outputs": [],
   "source": [
    "def reports (X_test,y_test,name):\n",
    "    #start = time.time()\n",
    "    Y_pred = model.predict(X_test)\n",
    "    y_pred = np.argmax(Y_pred, axis=1)\n",
    "    #end = time.time()\n",
    "    #print(end - start)\n",
    "    if name == 'IP':\n",
    "        target_names = ['Alfalfa', 'Corn-notill', 'Corn-mintill', 'Corn'\n",
    "                        ,'Grass-pasture', 'Grass-trees', 'Grass-pasture-mowed', \n",
    "                        'Hay-windrowed', 'Oats', 'Soybean-notill', 'Soybean-mintill',\n",
    "                        'Soybean-clean', 'Wheat', 'Woods', 'Buildings-Grass-Trees-Drives',\n",
    "                        'Stone-Steel-Towers']\n",
    "    elif name == 'SA':\n",
    "        target_names = ['Brocoli_green_weeds_1','Brocoli_green_weeds_2','Fallow','Fallow_rough_plow','Fallow_smooth',\n",
    "                        'Stubble','Celery','Grapes_untrained','Soil_vinyard_develop','Corn_senesced_green_weeds',\n",
    "                        'Lettuce_romaine_4wk','Lettuce_romaine_5wk','Lettuce_romaine_6wk','Lettuce_romaine_7wk',\n",
    "                        'Vinyard_untrained','Vinyard_vertical_trellis']\n",
    "    elif name == 'PU':\n",
    "        target_names = ['Asphalt','Meadows','Gravel','Trees', 'Painted metal sheets','Bare Soil','Bitumen',\n",
    "                        'Self-Blocking Bricks','Shadows']\n",
    "    \n",
    "    classification = classification_report(np.argmax(y_test, axis=1), y_pred, target_names=target_names)\n",
    "    oa = accuracy_score(np.argmax(y_test, axis=1), y_pred)\n",
    "    confusion = confusion_matrix(np.argmax(y_test, axis=1), y_pred)\n",
    "    each_acc, aa = AA_andEachClassAccuracy(confusion)\n",
    "    kappa = cohen_kappa_score(np.argmax(y_test, axis=1), y_pred)\n",
    "    score = model.evaluate(X_test, y_test, batch_size=32)\n",
    "    Test_Loss =  score[0]*100\n",
    "    Test_accuracy = score[1]*100\n",
    "    \n",
    "    return classification, confusion, Test_Loss, Test_accuracy, oa*100, each_acc*100, aa*100, kappa*100"
   ]
  },
  {
   "cell_type": "code",
   "execution_count": null,
   "metadata": {
    "id": "O6eDf1WHviuS"
   },
   "outputs": [],
   "source": [
    "classification, confusion, Test_loss, Test_accuracy, oa, each_acc, aa, kappa = reports(Xtest,ytest,dataset)\n",
    "classification = str(classification)\n",
    "confusion = str(confusion)\n",
    "file_name = \"classification_report.txt\"\n",
    "\n",
    "with open(file_name, 'w') as x_file:\n",
    "    x_file.write('{} Test loss (%)'.format(Test_loss))\n",
    "    x_file.write('\\n')\n",
    "    x_file.write('{} Test accuracy (%)'.format(Test_accuracy))\n",
    "    x_file.write('\\n')\n",
    "    x_file.write('\\n')\n",
    "    x_file.write('{} Kappa accuracy (%)'.format(kappa))\n",
    "    x_file.write('\\n')\n",
    "    x_file.write('{} Overall accuracy (%)'.format(oa))\n",
    "    x_file.write('\\n')\n",
    "    x_file.write('{} Average accuracy (%)'.format(aa))\n",
    "    x_file.write('\\n')\n",
    "    x_file.write('\\n')\n",
    "    x_file.write('{}'.format(classification))\n",
    "    x_file.write('\\n')\n",
    "    x_file.write('{}'.format(confusion))"
   ]
  },
  {
   "cell_type": "code",
   "execution_count": null,
   "metadata": {
    "id": "bftzj-2_viuY"
   },
   "outputs": [],
   "source": [
    "def Patch(data,height_index,width_index):\n",
    "    height_slice = slice(height_index, height_index+PATCH_SIZE)\n",
    "    width_slice = slice(width_index, width_index+PATCH_SIZE)\n",
    "    patch = data[height_slice, width_slice, :]\n",
    "    \n",
    "    return patch"
   ]
  },
  {
   "cell_type": "code",
   "execution_count": null,
   "metadata": {
    "id": "dBWs8kmzviue"
   },
   "outputs": [],
   "source": [
    "# load the original image\n",
    "X, y = loadData(dataset)"
   ]
  },
  {
   "cell_type": "code",
   "execution_count": null,
   "metadata": {
    "id": "cFsdbo9Aviuk"
   },
   "outputs": [],
   "source": [
    "height = y.shape[0]\n",
    "width = y.shape[1]\n",
    "PATCH_SIZE = windowSize\n",
    "numComponents = K"
   ]
  },
  {
   "cell_type": "code",
   "execution_count": null,
   "metadata": {
    "id": "J9dc-buXviup"
   },
   "outputs": [],
   "source": [
    "X,pca = applyPCA(X, numComponents=numComponents)"
   ]
  },
  {
   "cell_type": "code",
   "execution_count": null,
   "metadata": {
    "id": "Eq14Gv4rvius"
   },
   "outputs": [],
   "source": [
    "X = padWithZeros(X, PATCH_SIZE//2)"
   ]
  },
  {
   "cell_type": "code",
   "execution_count": null,
   "metadata": {
    "id": "yBtYMNhWviu0"
   },
   "outputs": [],
   "source": [
    "# calculate the predicted image\n",
    "outputs = np.zeros((height,width))\n",
    "for i in range(height):\n",
    "    for j in range(width):\n",
    "        target = int(y[i,j])\n",
    "        if target == 0 :\n",
    "            continue\n",
    "        else :\n",
    "            image_patch=Patch(X,i,j)\n",
    "            X_test_image = image_patch.reshape(1,image_patch.shape[0],image_patch.shape[1], image_patch.shape[2], 1).astype('float32')                                   \n",
    "            prediction = (model.predict(X_test_image))\n",
    "            prediction = np.argmax(prediction, axis=1)\n",
    "            outputs[i][j] = prediction+1"
   ]
  },
  {
   "cell_type": "code",
   "execution_count": null,
   "metadata": {
    "id": "2H_WBEHEviu5"
   },
   "outputs": [],
   "source": [
    "ground_truth = spectral.imshow(classes = y,figsize =(7,7))"
   ]
  },
  {
   "cell_type": "code",
   "execution_count": null,
   "metadata": {
    "id": "TIXpiUnavivA"
   },
   "outputs": [],
   "source": [
    "predict_image = spectral.imshow(classes = outputs.astype(int),figsize =(7,7))"
   ]
  },
  {
   "cell_type": "code",
   "execution_count": null,
   "metadata": {
    "id": "Nqc0ygfYvivI"
   },
   "outputs": [],
   "source": [
    "spectral.save_rgb(\"predictions.jpg\", outputs.astype(int), colors=spectral.spy_colors)"
   ]
  },
  {
   "cell_type": "markdown",
   "metadata": {
    "id": "sNgBjynzvivN"
   },
   "source": [
    "spectral.save_rgb(str(dataset)+\"_ground_truth.jpg\", y, colors=spectral.spy_colors)"
   ]
  }
 ],
 "metadata": {
  "accelerator": "GPU",
  "colab": {
   "collapsed_sections": [
    "ImXShO0dvisc",
    "wg3XlImlvitn"
   ],
   "name": "HybridSN_V1.ipynb",
   "provenance": []
  },
  "kernelspec": {
   "display_name": "Python 3 (ipykernel)",
   "language": "python",
   "name": "python3"
  },
  "language_info": {
   "codemirror_mode": {
    "name": "ipython",
    "version": 3
   },
   "file_extension": ".py",
   "mimetype": "text/x-python",
   "name": "python",
   "nbconvert_exporter": "python",
   "pygments_lexer": "ipython3",
   "version": "3.7.16"
  }
 },
 "nbformat": 4,
 "nbformat_minor": 1
}
